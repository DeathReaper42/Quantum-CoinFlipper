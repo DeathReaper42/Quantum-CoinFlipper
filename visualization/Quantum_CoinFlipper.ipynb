{
 "cells": [
  {
   "cell_type": "code",
   "execution_count": 1,
   "id": "about-pennsylvania",
   "metadata": {},
   "outputs": [],
   "source": [
    "import numpy as np\n",
    "from qiskit import *"
   ]
  },
  {
   "cell_type": "code",
   "execution_count": 2,
   "id": "better-terrorism",
   "metadata": {},
   "outputs": [
    {
     "data": {
      "text/plain": [
       "<qiskit.circuit.instructionset.InstructionSet at 0x7fd1a5c4f310>"
      ]
     },
     "execution_count": 2,
     "metadata": {},
     "output_type": "execute_result"
    }
   ],
   "source": [
    "circ = QuantumCircuit(4, 4)\n",
    "circ.h(0)\n",
    "circ.h(1)\n",
    "circ.h(2)\n",
    "circ.h(3)\n",
    "circ.measure(range(4), range(4))"
   ]
  },
  {
   "cell_type": "code",
   "execution_count": 3,
   "id": "compliant-farmer",
   "metadata": {},
   "outputs": [
    {
     "data": {
      "text/html": [
       "<pre style=\"word-wrap: normal;white-space: pre;background: #fff0;line-height: 1.1;font-family: &quot;Courier New&quot;,Courier,monospace\">     ┌───┐┌─┐         \n",
       "q_0: ┤ H ├┤M├─────────\n",
       "     ├───┤└╥┘┌─┐      \n",
       "q_1: ┤ H ├─╫─┤M├──────\n",
       "     ├───┤ ║ └╥┘┌─┐   \n",
       "q_2: ┤ H ├─╫──╫─┤M├───\n",
       "     ├───┤ ║  ║ └╥┘┌─┐\n",
       "q_3: ┤ H ├─╫──╫──╫─┤M├\n",
       "     └───┘ ║  ║  ║ └╥┘\n",
       "c: 4/══════╩══╩══╩══╩═\n",
       "           0  1  2  3 </pre>"
      ],
      "text/plain": [
       "     ┌───┐┌─┐         \n",
       "q_0: ┤ H ├┤M├─────────\n",
       "     ├───┤└╥┘┌─┐      \n",
       "q_1: ┤ H ├─╫─┤M├──────\n",
       "     ├───┤ ║ └╥┘┌─┐   \n",
       "q_2: ┤ H ├─╫──╫─┤M├───\n",
       "     ├───┤ ║  ║ └╥┘┌─┐\n",
       "q_3: ┤ H ├─╫──╫──╫─┤M├\n",
       "     └───┘ ║  ║  ║ └╥┘\n",
       "c: 4/══════╩══╩══╩══╩═\n",
       "           0  1  2  3 "
      ]
     },
     "execution_count": 3,
     "metadata": {},
     "output_type": "execute_result"
    }
   ],
   "source": [
    "circ.draw()"
   ]
  },
  {
   "cell_type": "code",
   "execution_count": 5,
   "id": "closed-great",
   "metadata": {},
   "outputs": [
    {
     "data": {
      "text/plain": [
       "'\\nIn the above circuit we are using as many Hadamard gates as coins to generate a random bit which is measured, which can \\neither be 0 or 1 with equal probability to both, hence we are flipping coins with true randomness here.\\n(In the above circuit we are flipping four coins\")\\n'"
      ]
     },
     "execution_count": 5,
     "metadata": {},
     "output_type": "execute_result"
    }
   ],
   "source": [
    "'''\n",
    "In the above circuit we are using as many Hadamard gates as coins to generate a random bit which is measured, which can \n",
    "either be 0 or 1 with equal probability to both, hence we are flipping coins with true randomness here.\n",
    "(In the above circuit we are flipping four coins\")\n",
    "'''"
   ]
  },
  {
   "cell_type": "code",
   "execution_count": null,
   "id": "german-findings",
   "metadata": {},
   "outputs": [],
   "source": []
  }
 ],
 "metadata": {
  "kernelspec": {
   "display_name": "Python 3",
   "language": "python",
   "name": "python3"
  },
  "language_info": {
   "codemirror_mode": {
    "name": "ipython",
    "version": 3
   },
   "file_extension": ".py",
   "mimetype": "text/x-python",
   "name": "python",
   "nbconvert_exporter": "python",
   "pygments_lexer": "ipython3",
   "version": "3.9.2"
  }
 },
 "nbformat": 4,
 "nbformat_minor": 5
}
